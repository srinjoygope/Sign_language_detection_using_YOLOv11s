import torch

print("CUDA Available:", torch.cuda.is_available())
print("CUDA Version:", torch.version.cuda)
print("PyTorch Version:", torch.__version__)
print("Number of GPUs:", torch.cuda.device_count())
print("GPU Name:", torch.cuda.get_device_name(0) if torch.cuda.is_available() else "No GPU detected")


from ultralytics import YOLO


# Load a COCO-pretrained YOLO11n model
model = YOLO("chosen_yolo_model/yolo11s.pt")


# Train the model on the COCO8 example dataset for 100 epochs
model.train(
    data='/home/itgroup13/dataset/data.yaml',        # Path to your dataset configuration (data.yaml)
    epochs=100,                  # Number of training epochs
    imgsz=640,  
    batch=4,
    name="custom_yolov11s",     # Experiment name for saved models and logs
    verbose=True,              # Number of workers for data loading
    plots=True,
    device="0"                 # Specify GPU (e.g., '0') or CPU ('cpu')
)


model = YOLO("best_model.pt")


# Load the trained YOLO model
model = YOLO("best_model.pt")

# Test the model on the test dataset
results = model.val(data='D:\ML_projects\sign_language\datasets\dataset\data.yaml', split="test")

# Print the results
print(results)  # Displays mAP, precision, recall, etc.


# Run predictions on test images
results = model.predict(source="datasets/dataset/test/images", save=True)

# Results are saved in the 'runs/predict' directory by default
print(f"Results saved to {results.save_dir}")


model.predict(source='dataset/collected_frames/yes/340e195a-6cdf-40b9-a167-0a228de3bb91.jpg', save=True, show=True)


import cv2
from ultralytics import YOLO

# Load your YOLO model
model = YOLO("best_model.pt")

# Open the video capture or webcam
cap = cv2.VideoCapture(0)  # Use "path/to/video.mp4" for a video file

while True:
    ret, frame = cap.read()
    if not ret:
        break

    # Run inference on the frame
    results = model.predict(source=frame, conf=0.55)  # Adjust confidence threshold if needed

    # Display the predictions on the frame
    annotated_frame = results[0].plot()  # Plot the results on the frame
    cv2.imshow("YOLO Detection", annotated_frame)

    # Exit on pressing 'q'
    if cv2.waitKey(1) & 0xFF == ord('q'):
        break

cap.release()
cv2.destroyAllWindows()


import yaml
import matplotlib.pyplot as plt
from collections import Counter
import os

# Load your data.yaml file
data_yaml_path = "dataset/dataset_dir/data.yaml"  # Update this path
with open(data_yaml_path, 'r') as file:
    data_config = yaml.safe_load(file)

# Paths to dataset
train_images_path = data_config['train']  # Path to training images
val_images_path = data_config['val']  # Path to validation images

# Function to count classes from label files
def count_classes(label_folder):
    class_counts = Counter()
    for label_file in os.listdir(label_folder):
        if label_file.endswith('.txt'):
            with open(os.path.join(label_folder, label_file), 'r') as file:
                for line in file:
                    class_id = int(line.split()[0])  # The first value in YOLO labels is the class ID
                    class_counts[class_id] += 1
    return class_counts

# Count classes in train and validation sets
# train_label_folder = train_images_path.replace("images", "labels")  # Adjust paths if needed
# val_label_folder = val_images_path.replace("images", "labels")  # Adjust paths if needed
train_label_folder = "dataset/dataset_dir/train/labels"  # Adjust paths if needed
val_label_folder = 'dataset/dataset_dir/valid/labels'  # Adjust paths if needed

train_counts = count_classes(train_label_folder)
val_counts = count_classes(val_label_folder)

# Load class names from data.yaml
class_names = data_config['names']

# Plotting function
def plot_class_distribution(counts, class_names, title):
    sorted_counts = dict(sorted(counts.items()))
    labels = [class_names[i] for i in sorted_counts.keys()]
    values = list(sorted_counts.values())

    plt.figure(figsize=(5, 4))
    plt.bar(labels, values, color='skyblue')
    plt.xlabel('Classes')
    plt.ylabel('Number of Instances')
    plt.title(title)
    plt.xticks(rotation=45, ha='right')
    plt.tight_layout()
    plt.show()

# Plot distributions
plot_class_distribution(train_counts, class_names, "Class Distribution in Training Data")
plot_class_distribution(val_counts, class_names, "Class Distribution in Validation Data")
